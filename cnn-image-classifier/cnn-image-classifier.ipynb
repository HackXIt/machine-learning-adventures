{
 "cells": [
  {
   "cell_type": "markdown",
   "metadata": {},
   "source": [
    "# Setup and load data\n",
    "## Install dependencies"
   ]
  },
  {
   "cell_type": "code",
   "execution_count": null,
   "metadata": {},
   "outputs": [],
   "source": [
    "%pip install tensorflow opencv-python matplotlib"
   ]
  },
  {
   "cell_type": "code",
   "execution_count": 5,
   "metadata": {},
   "outputs": [
    {
     "name": "stdout",
     "output_type": "stream",
     "text": [
      "Package                      Version\n",
      "---------------------------- ----------\n",
      "absl-py                      2.0.0\n",
      "asttokens                    2.4.1\n",
      "astunparse                   1.6.3\n",
      "backcall                     0.2.0\n",
      "cachetools                   5.3.2\n",
      "certifi                      2023.11.17\n",
      "charset-normalizer           3.3.2\n",
      "comm                         0.2.0\n",
      "contourpy                    1.1.1\n",
      "cycler                       0.12.1\n",
      "debugpy                      1.8.0\n",
      "decorator                    5.1.1\n",
      "executing                    2.0.1\n",
      "flatbuffers                  23.5.26\n",
      "fonttools                    4.44.3\n",
      "gast                         0.4.0\n",
      "google-auth                  2.23.4\n",
      "google-auth-oauthlib         1.0.0\n",
      "google-pasta                 0.2.0\n",
      "grpcio                       1.59.3\n",
      "h5py                         3.10.0\n",
      "idna                         3.4\n",
      "importlib-metadata           6.8.0\n",
      "importlib-resources          6.1.1\n",
      "ipykernel                    6.26.0\n",
      "ipython                      8.12.3\n",
      "jedi                         0.19.1\n",
      "jupyter_client               8.6.0\n",
      "jupyter_core                 5.5.0\n",
      "keras                        2.13.1\n",
      "kiwisolver                   1.4.5\n",
      "libclang                     16.0.6\n",
      "Markdown                     3.5.1\n",
      "MarkupSafe                   2.1.3\n",
      "matplotlib                   3.7.4\n",
      "matplotlib-inline            0.1.6\n",
      "nest-asyncio                 1.5.8\n",
      "numpy                        1.24.3\n",
      "oauthlib                     3.2.2\n",
      "opencv-python                4.8.1.78\n",
      "opt-einsum                   3.3.0\n",
      "packaging                    23.2\n",
      "parso                        0.8.3\n",
      "pexpect                      4.8.0\n",
      "pickleshare                  0.7.5\n",
      "Pillow                       10.1.0\n",
      "pip                          23.3.1\n",
      "pkg_resources                0.0.0\n",
      "platformdirs                 4.0.0\n",
      "prompt-toolkit               3.0.41\n",
      "protobuf                     4.25.1\n",
      "psutil                       5.9.6\n",
      "ptyprocess                   0.7.0\n",
      "pure-eval                    0.2.2\n",
      "pyasn1                       0.5.0\n",
      "pyasn1-modules               0.3.0\n",
      "Pygments                     2.17.0\n",
      "pyparsing                    3.1.1\n",
      "python-dateutil              2.8.2\n",
      "pyzmq                        25.1.1\n",
      "requests                     2.31.0\n",
      "requests-oauthlib            1.3.1\n",
      "rsa                          4.9\n",
      "setuptools                   44.0.0\n",
      "six                          1.16.0\n",
      "stack-data                   0.6.3\n",
      "tensorboard                  2.13.0\n",
      "tensorboard-data-server      0.7.2\n",
      "tensorflow                   2.13.1\n",
      "tensorflow-estimator         2.13.0\n",
      "tensorflow-io-gcs-filesystem 0.34.0\n",
      "termcolor                    2.3.0\n",
      "tornado                      6.3.3\n",
      "traitlets                    5.13.0\n",
      "typing_extensions            4.5.0\n",
      "urllib3                      2.1.0\n",
      "wcwidth                      0.2.10\n",
      "Werkzeug                     3.0.1\n",
      "wheel                        0.41.3\n",
      "wrapt                        1.16.0\n",
      "zipp                         3.17.0\n",
      "Note: you may need to restart the kernel to use updated packages.\n"
     ]
    }
   ],
   "source": [
    "%pip list"
   ]
  },
  {
   "cell_type": "code",
   "execution_count": 6,
   "metadata": {},
   "outputs": [
    {
     "name": "stderr",
     "output_type": "stream",
     "text": [
      "2023-11-18 15:36:02.267218: I tensorflow/core/util/port.cc:110] oneDNN custom operations are on. You may see slightly different numerical results due to floating-point round-off errors from different computation orders. To turn them off, set the environment variable `TF_ENABLE_ONEDNN_OPTS=0`.\n",
      "2023-11-18 15:36:02.269183: I tensorflow/tsl/cuda/cudart_stub.cc:28] Could not find cuda drivers on your machine, GPU will not be used.\n",
      "2023-11-18 15:36:02.312195: I tensorflow/tsl/cuda/cudart_stub.cc:28] Could not find cuda drivers on your machine, GPU will not be used.\n",
      "2023-11-18 15:36:02.312886: I tensorflow/core/platform/cpu_feature_guard.cc:182] This TensorFlow binary is optimized to use available CPU instructions in performance-critical operations.\n",
      "To enable the following instructions: AVX2 AVX512F AVX512_VNNI FMA, in other operations, rebuild TensorFlow with the appropriate compiler flags.\n",
      "2023-11-18 15:36:03.038953: W tensorflow/compiler/tf2tensorrt/utils/py_utils.cc:38] TF-TRT Warning: Could not find TensorRT\n"
     ]
    }
   ],
   "source": [
    "import tensorflow as tf\n",
    "import os"
   ]
  },
  {
   "cell_type": "code",
   "execution_count": 7,
   "metadata": {},
   "outputs": [],
   "source": [
    "# Avoid OOM errors by setting GPU Memory Consumption Growth\n",
    "gpus = tf.config.experimental.list_physical_devices('GPU')\n",
    "for gpu in gpus: \n",
    "    tf.config.experimental.set_memory_growth(gpu, True)"
   ]
  },
  {
   "cell_type": "code",
   "execution_count": 8,
   "metadata": {},
   "outputs": [
    {
     "data": {
      "text/plain": [
       "[]"
      ]
     },
     "execution_count": 8,
     "metadata": {},
     "output_type": "execute_result"
    }
   ],
   "source": [
    "tf.config.list_physical_devices('GPU')"
   ]
  }
 ],
 "metadata": {
  "kernelspec": {
   "display_name": ".venv",
   "language": "python",
   "name": "python3"
  },
  "language_info": {
   "codemirror_mode": {
    "name": "ipython",
    "version": 3
   },
   "file_extension": ".py",
   "mimetype": "text/x-python",
   "name": "python",
   "nbconvert_exporter": "python",
   "pygments_lexer": "ipython3",
   "version": "3.8.10"
  }
 },
 "nbformat": 4,
 "nbformat_minor": 2
}
