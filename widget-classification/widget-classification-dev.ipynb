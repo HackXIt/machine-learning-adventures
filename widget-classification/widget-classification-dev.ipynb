{
 "cells": [
  {
   "cell_type": "markdown",
   "metadata": {},
   "source": [
    "# Setup dependencies"
   ]
  },
  {
   "cell_type": "code",
   "execution_count": 36,
   "metadata": {},
   "outputs": [
    {
     "name": "stdout",
     "output_type": "stream",
     "text": [
      "Requirement already satisfied: opencv-python-headless in /usr/local/lib/python3.11/dist-packages (4.8.1.78)\n",
      "Requirement already satisfied: matplotlib in /usr/local/lib/python3.11/dist-packages (3.8.2)\n",
      "Requirement already satisfied: lxml in /usr/local/lib/python3.11/dist-packages (4.9.3)\n",
      "Requirement already satisfied: numpy in /usr/local/lib/python3.11/dist-packages (1.26.2)\n",
      "Requirement already satisfied: contourpy>=1.0.1 in /usr/local/lib/python3.11/dist-packages (from matplotlib) (1.2.0)\n",
      "Requirement already satisfied: cycler>=0.10 in /usr/local/lib/python3.11/dist-packages (from matplotlib) (0.12.1)\n",
      "Requirement already satisfied: fonttools>=4.22.0 in /usr/local/lib/python3.11/dist-packages (from matplotlib) (4.44.3)\n",
      "Requirement already satisfied: kiwisolver>=1.3.1 in /usr/local/lib/python3.11/dist-packages (from matplotlib) (1.4.5)\n",
      "Requirement already satisfied: packaging>=20.0 in /usr/local/lib/python3.11/dist-packages (from matplotlib) (23.2)\n",
      "Requirement already satisfied: pillow>=8 in /usr/local/lib/python3.11/dist-packages (from matplotlib) (10.1.0)\n",
      "Requirement already satisfied: pyparsing>=2.3.1 in /usr/lib/python3/dist-packages (from matplotlib) (2.4.7)\n",
      "Requirement already satisfied: python-dateutil>=2.7 in /usr/local/lib/python3.11/dist-packages (from matplotlib) (2.8.2)\n",
      "Requirement already satisfied: six>=1.5 in /usr/lib/python3/dist-packages (from python-dateutil>=2.7->matplotlib) (1.16.0)\n",
      "\u001b[33mWARNING: Running pip as the 'root' user can result in broken permissions and conflicting behaviour with the system package manager. It is recommended to use a virtual environment instead: https://pip.pypa.io/warnings/venv\u001b[0m\u001b[33m\n",
      "\u001b[0mNote: you may need to restart the kernel to use updated packages.\n"
     ]
    }
   ],
   "source": [
    "%pip install opencv-python-headless matplotlib lxml numpy"
   ]
  },
  {
   "cell_type": "code",
   "execution_count": 52,
   "metadata": {},
   "outputs": [],
   "source": [
    "import tensorflow as tf\n",
    "from tensorflow.keras.models import Model\n",
    "from tensorflow.keras.layers import Dense, Flatten, Conv2D, Input"
   ]
  },
  {
   "cell_type": "markdown",
   "metadata": {},
   "source": [
    "# Clean data"
   ]
  },
  {
   "cell_type": "code",
   "execution_count": 128,
   "metadata": {},
   "outputs": [],
   "source": [
    "import PIL\n",
    "from pathlib import Path\n",
    "from PIL import UnidentifiedImageError\n",
    "\n",
    "def aggregate_images(\n",
    "    dataset_root,\n",
    "    extensions = [\"png\", \"jpg\", \"jpeg\"],\n",
    "):\n",
    "    \"\"\"\n",
    "    Globs for images in a given data directory and returns them\n",
    "    \"\"\"\n",
    "    dataset_root = Path(dataset_root)\n",
    "    image_paths = []\n",
    "\n",
    "    for extension in extensions:\n",
    "        image_paths.extend(list(dataset_root.glob(\"**/*.{}\".format(extension))))\n",
    "\n",
    "    return image_paths\n",
    "\n",
    "base_dir = \"/tf/workspace/machine-learning-adventures/widget-classification\" \n",
    "label_dir os.path.join(base_dir, \"data/label\")\n",
    "img_dir = \"/tf/workspace/machine-learning-adventures/widget-classification/data/raw\"\n",
    "\n",
    "path = aggregate_images(os.path.join(img_dir, \"button\"))\n",
    "for img_p in path:\n",
    "    try:\n",
    "        img = PIL.Image.open(img_p)\n",
    "    except PIL.UnidentifiedImageError:\n",
    "            print(img_p)"
   ]
  },
  {
   "cell_type": "markdown",
   "metadata": {},
   "source": [
    "# Load data"
   ]
  },
  {
   "cell_type": "code",
   "execution_count": 53,
   "metadata": {},
   "outputs": [],
   "source": [
    "import os\n",
    "import cv2\n",
    "import numpy as np\n",
    "import xml.etree.ElementTree as ET"
   ]
  },
  {
   "cell_type": "code",
   "execution_count": 60,
   "metadata": {},
   "outputs": [],
   "source": [
    "def parse_annotation(xml_file):\n",
    "    tree = ET.parse(xml_file)\n",
    "    root = tree.getroot()\n",
    "\n",
    "    boxes = []\n",
    "    for member in root.findall('object'):\n",
    "        xmin = int(member.find('bndbox/xmin').text)\n",
    "        ymin = int(member.find('bndbox/ymin').text)\n",
    "        xmax = int(member.find('bndbox/xmax').text)\n",
    "        ymax = int(member.find('bndbox/ymax').text)\n",
    "        label = member.find('name').text\n",
    "\n",
    "        boxes.append([xmin, ymin, xmax, ymax, label])\n",
    "    \n",
    "    return boxes"
   ]
  },
  {
   "cell_type": "code",
   "execution_count": 61,
   "metadata": {},
   "outputs": [],
   "source": [
    "def load_data(image_dir, annotation_dir):\n",
    "    images = []\n",
    "    labels = []\n",
    "\n",
    "    for image_file in os.listdir(image_dir):\n",
    "        if image_file.endswith('.jpg'):  # Adjust the file extension as per your dataset\n",
    "            image_path = os.path.join(image_dir, image_file)\n",
    "            annotation_path = os.path.join(annotation_dir, image_file.replace('.jpg', '.xml'))  # Adjust the extension\n",
    "\n",
    "            # Load image\n",
    "            img = cv2.imread(image_path)\n",
    "            img = cv2.resize(img, (224, 224))  # Resize to match model input\n",
    "            images.append(img)\n",
    "\n",
    "            # Parse XML file for annotations\n",
    "            boxes = parse_annotation(annotation_path)\n",
    "            labels.append(boxes)\n",
    "\n",
    "    return np.array(images), np.array(labels)"
   ]
  },
  {
   "cell_type": "markdown",
   "metadata": {},
   "source": [
    "# Train model"
   ]
  },
  {
   "cell_type": "code",
   "execution_count": 81,
   "metadata": {},
   "outputs": [],
   "source": [
    "# Load a pre-trained model (for example, MobileNetV2)\n",
    "base_model = tf.keras.applications.MobileNetV2(input_shape=(224, 224, 3),\n",
    "                                               include_top=False,\n",
    "                                               weights='imagenet')\n",
    "base_model.trainable = False  # Freeze the base model"
   ]
  },
  {
   "cell_type": "code",
   "execution_count": null,
   "metadata": {},
   "outputs": [],
   "source": []
  },
  {
   "cell_type": "code",
   "execution_count": 126,
   "metadata": {},
   "outputs": [
    {
     "ename": "ValueError",
     "evalue": "Unrecognized keyword arguments passed to Conv2D: {'inputs': <KerasTensor shape=(None, 224, 224, 3), dtype=float32, sparse=None, name=keras_tensor_1286>}",
     "output_type": "error",
     "traceback": [
      "\u001b[0;31m---------------------------------------------------------------------------\u001b[0m",
      "\u001b[0;31mValueError\u001b[0m                                Traceback (most recent call last)",
      "\u001b[1;32mc:\\Users\\rini\\DATA\\#Git-Stash\\machine-learning-adventures\\widget-classification\\widget-classification.ipynb Cell 11\u001b[0m line \u001b[0;36m4\n\u001b[1;32m      <a href='vscode-notebook-cell:/c%3A/Users/rini/DATA/%23Git-Stash/machine-learning-adventures/widget-classification/widget-classification.ipynb#X15sZmlsZQ%3D%3D?line=1'>2</a>\u001b[0m inputs \u001b[39m=\u001b[39m Input(shape\u001b[39m=\u001b[39m(\u001b[39m224\u001b[39m, \u001b[39m224\u001b[39m, \u001b[39m3\u001b[39m))\n\u001b[1;32m      <a href='vscode-notebook-cell:/c%3A/Users/rini/DATA/%23Git-Stash/machine-learning-adventures/widget-classification/widget-classification.ipynb#X15sZmlsZQ%3D%3D?line=2'>3</a>\u001b[0m \u001b[39m#x = base_model(inputs, training=False)\u001b[39;00m\n\u001b[0;32m----> <a href='vscode-notebook-cell:/c%3A/Users/rini/DATA/%23Git-Stash/machine-learning-adventures/widget-classification/widget-classification.ipynb#X15sZmlsZQ%3D%3D?line=3'>4</a>\u001b[0m Conv2D(filters\u001b[39m=\u001b[39;49m\u001b[39m32\u001b[39;49m, kernel_size\u001b[39m=\u001b[39;49m\u001b[39m3\u001b[39;49m, activation\u001b[39m=\u001b[39;49m\u001b[39m'\u001b[39;49m\u001b[39mrelu\u001b[39;49m\u001b[39m'\u001b[39;49m, inputs\u001b[39m=\u001b[39;49minputs)\n\u001b[1;32m      <a href='vscode-notebook-cell:/c%3A/Users/rini/DATA/%23Git-Stash/machine-learning-adventures/widget-classification/widget-classification.ipynb#X15sZmlsZQ%3D%3D?line=4'>5</a>\u001b[0m MaxPooling2D(pool_size\u001b[39m=\u001b[39m\u001b[39m2\u001b[39m)\n\u001b[1;32m      <a href='vscode-notebook-cell:/c%3A/Users/rini/DATA/%23Git-Stash/machine-learning-adventures/widget-classification/widget-classification.ipynb#X15sZmlsZQ%3D%3D?line=5'>6</a>\u001b[0m Conv2D(filters\u001b[39m=\u001b[39m\u001b[39m64\u001b[39m, kernel_size\u001b[39m=\u001b[39m\u001b[39m3\u001b[39m, activation\u001b[39m=\u001b[39m\u001b[39m'\u001b[39m\u001b[39mrelu\u001b[39m\u001b[39m'\u001b[39m)\n",
      "File \u001b[0;32m/usr/local/lib/python3.11/dist-packages/keras/src/layers/convolutional/conv2d.py:107\u001b[0m, in \u001b[0;36mConv2D.__init__\u001b[0;34m(self, filters, kernel_size, strides, padding, data_format, dilation_rate, groups, activation, use_bias, kernel_initializer, bias_initializer, kernel_regularizer, bias_regularizer, activity_regularizer, kernel_constraint, bias_constraint, **kwargs)\u001b[0m\n\u001b[1;32m     87\u001b[0m \u001b[39mdef\u001b[39;00m \u001b[39m__init__\u001b[39m(\n\u001b[1;32m     88\u001b[0m     \u001b[39mself\u001b[39m,\n\u001b[1;32m     89\u001b[0m     filters,\n\u001b[0;32m   (...)\u001b[0m\n\u001b[1;32m    105\u001b[0m     \u001b[39m*\u001b[39m\u001b[39m*\u001b[39mkwargs\n\u001b[1;32m    106\u001b[0m ):\n\u001b[0;32m--> 107\u001b[0m     \u001b[39msuper\u001b[39;49m()\u001b[39m.\u001b[39;49m\u001b[39m__init__\u001b[39;49m(\n\u001b[1;32m    108\u001b[0m         rank\u001b[39m=\u001b[39;49m\u001b[39m2\u001b[39;49m,\n\u001b[1;32m    109\u001b[0m         filters\u001b[39m=\u001b[39;49mfilters,\n\u001b[1;32m    110\u001b[0m         kernel_size\u001b[39m=\u001b[39;49mkernel_size,\n\u001b[1;32m    111\u001b[0m         strides\u001b[39m=\u001b[39;49mstrides,\n\u001b[1;32m    112\u001b[0m         padding\u001b[39m=\u001b[39;49mpadding,\n\u001b[1;32m    113\u001b[0m         data_format\u001b[39m=\u001b[39;49mdata_format,\n\u001b[1;32m    114\u001b[0m         dilation_rate\u001b[39m=\u001b[39;49mdilation_rate,\n\u001b[1;32m    115\u001b[0m         groups\u001b[39m=\u001b[39;49mgroups,\n\u001b[1;32m    116\u001b[0m         activation\u001b[39m=\u001b[39;49mactivation,\n\u001b[1;32m    117\u001b[0m         use_bias\u001b[39m=\u001b[39;49muse_bias,\n\u001b[1;32m    118\u001b[0m         kernel_initializer\u001b[39m=\u001b[39;49mkernel_initializer,\n\u001b[1;32m    119\u001b[0m         bias_initializer\u001b[39m=\u001b[39;49mbias_initializer,\n\u001b[1;32m    120\u001b[0m         kernel_regularizer\u001b[39m=\u001b[39;49mkernel_regularizer,\n\u001b[1;32m    121\u001b[0m         bias_regularizer\u001b[39m=\u001b[39;49mbias_regularizer,\n\u001b[1;32m    122\u001b[0m         activity_regularizer\u001b[39m=\u001b[39;49mactivity_regularizer,\n\u001b[1;32m    123\u001b[0m         kernel_constraint\u001b[39m=\u001b[39;49mkernel_constraint,\n\u001b[1;32m    124\u001b[0m         bias_constraint\u001b[39m=\u001b[39;49mbias_constraint,\n\u001b[1;32m    125\u001b[0m         \u001b[39m*\u001b[39;49m\u001b[39m*\u001b[39;49mkwargs\n\u001b[1;32m    126\u001b[0m     )\n",
      "File \u001b[0;32m/usr/local/lib/python3.11/dist-packages/keras/src/layers/convolutional/base_conv.py:99\u001b[0m, in \u001b[0;36mBaseConv.__init__\u001b[0;34m(self, rank, filters, kernel_size, strides, padding, data_format, dilation_rate, groups, activation, use_bias, kernel_initializer, bias_initializer, kernel_regularizer, bias_regularizer, activity_regularizer, kernel_constraint, bias_constraint, trainable, name, **kwargs)\u001b[0m\n\u001b[1;32m     76\u001b[0m \u001b[39mdef\u001b[39;00m \u001b[39m__init__\u001b[39m(\n\u001b[1;32m     77\u001b[0m     \u001b[39mself\u001b[39m,\n\u001b[1;32m     78\u001b[0m     rank,\n\u001b[0;32m   (...)\u001b[0m\n\u001b[1;32m     97\u001b[0m     \u001b[39m*\u001b[39m\u001b[39m*\u001b[39mkwargs,\n\u001b[1;32m     98\u001b[0m ):\n\u001b[0;32m---> 99\u001b[0m     \u001b[39msuper\u001b[39;49m()\u001b[39m.\u001b[39;49m\u001b[39m__init__\u001b[39;49m(\n\u001b[1;32m    100\u001b[0m         trainable\u001b[39m=\u001b[39;49mtrainable,\n\u001b[1;32m    101\u001b[0m         name\u001b[39m=\u001b[39;49mname,\n\u001b[1;32m    102\u001b[0m         activity_regularizer\u001b[39m=\u001b[39;49mactivity_regularizer,\n\u001b[1;32m    103\u001b[0m         \u001b[39m*\u001b[39;49m\u001b[39m*\u001b[39;49mkwargs,\n\u001b[1;32m    104\u001b[0m     )\n\u001b[1;32m    105\u001b[0m     \u001b[39mself\u001b[39m\u001b[39m.\u001b[39mrank \u001b[39m=\u001b[39m rank\n\u001b[1;32m    106\u001b[0m     \u001b[39mself\u001b[39m\u001b[39m.\u001b[39mfilters \u001b[39m=\u001b[39m filters\n",
      "File \u001b[0;32m/usr/local/lib/python3.11/dist-packages/keras/src/layers/layer.py:263\u001b[0m, in \u001b[0;36mLayer.__init__\u001b[0;34m(self, activity_regularizer, trainable, dtype, autocast, name, **kwargs)\u001b[0m\n\u001b[1;32m    261\u001b[0m     \u001b[39mself\u001b[39m\u001b[39m.\u001b[39m_input_shape_arg \u001b[39m=\u001b[39m input_shape_arg\n\u001b[1;32m    262\u001b[0m \u001b[39mif\u001b[39;00m kwargs:\n\u001b[0;32m--> 263\u001b[0m     \u001b[39mraise\u001b[39;00m \u001b[39mValueError\u001b[39;00m(\n\u001b[1;32m    264\u001b[0m         \u001b[39m\"\u001b[39m\u001b[39mUnrecognized keyword arguments \u001b[39m\u001b[39m\"\u001b[39m\n\u001b[1;32m    265\u001b[0m         \u001b[39mf\u001b[39m\u001b[39m\"\u001b[39m\u001b[39mpassed to \u001b[39m\u001b[39m{\u001b[39;00m\u001b[39mself\u001b[39m\u001b[39m.\u001b[39m\u001b[39m__class__\u001b[39m\u001b[39m.\u001b[39m\u001b[39m__name__\u001b[39m\u001b[39m}\u001b[39;00m\u001b[39m: \u001b[39m\u001b[39m{\u001b[39;00mkwargs\u001b[39m}\u001b[39;00m\u001b[39m\"\u001b[39m\n\u001b[1;32m    266\u001b[0m     )\n\u001b[1;32m    268\u001b[0m \u001b[39mself\u001b[39m\u001b[39m.\u001b[39mbuilt \u001b[39m=\u001b[39m \u001b[39mFalse\u001b[39;00m\n\u001b[1;32m    269\u001b[0m \u001b[39mself\u001b[39m\u001b[39m.\u001b[39mdtype_policy \u001b[39m=\u001b[39m mixed_precision\u001b[39m.\u001b[39mresolve_policy(dtype)\n",
      "\u001b[0;31mValueError\u001b[0m: Unrecognized keyword arguments passed to Conv2D: {'inputs': <KerasTensor shape=(None, 224, 224, 3), dtype=float32, sparse=None, name=keras_tensor_1286>}"
     ]
    }
   ],
   "source": [
    "# Add custom layers for object detection\n",
    "inputs = Input(shape=(224, 224, 3))\n",
    "#x = base_model(inputs, training=False)\n",
    "Conv2D(filters=32, kernel_size=3, activation='relu', inputs=inputs)\n",
    "MaxPooling2D(pool_size=2)\n",
    "Conv2D(filters=64, kernel_size=3, activation='relu')\n",
    "MaxPooling2D(pool_size=2)(x)\n",
    "Flatten()\n",
    "Dense(1024, activation='relu')\n",
    "#outputs = Dense(5, activation='sigmoid')(x)  # 4 for bounding box, 1 for class"
   ]
  },
  {
   "cell_type": "code",
   "execution_count": 116,
   "metadata": {},
   "outputs": [],
   "source": [
    "model = Model(inputs, outputs)"
   ]
  },
  {
   "cell_type": "code",
   "execution_count": 117,
   "metadata": {},
   "outputs": [],
   "source": [
    "# Compile the model\n",
    "model.compile(optimizer='adam',\n",
    "              loss='mean_squared_error',  # Adjust the loss function as needed\n",
    "              metrics=['accuracy'])"
   ]
  },
  {
   "cell_type": "code",
   "execution_count": 118,
   "metadata": {},
   "outputs": [],
   "source": [
    "image_dir = '/tf/workspace/widget-classification/data/labeled/button'\n",
    "annotation_dir = '/tf/workspace/widget-classification/data/labeled/button'\n",
    "x_train, y_train = load_data(image_dir, annotation_dir)"
   ]
  },
  {
   "cell_type": "code",
   "execution_count": 119,
   "metadata": {},
   "outputs": [],
   "source": [
    "# Normalize images\n",
    "x_train = x_train / 224.0"
   ]
  },
  {
   "cell_type": "code",
   "execution_count": 120,
   "metadata": {},
   "outputs": [],
   "source": [
    "label_map = {'button': 0}  # Add more classes as needed\n",
    "y_train = [[*box[:4], label_map[box[4]]] for boxes in y_train for box in boxes]"
   ]
  },
  {
   "cell_type": "code",
   "execution_count": 121,
   "metadata": {},
   "outputs": [
    {
     "name": "stdout",
     "output_type": "stream",
     "text": [
      "(25, 224, 224, 3)\n",
      "float64\n"
     ]
    }
   ],
   "source": [
    "print(x_train.shape)\n",
    "print(x_train.dtype)"
   ]
  },
  {
   "cell_type": "code",
   "execution_count": 122,
   "metadata": {},
   "outputs": [
    {
     "name": "stdout",
     "output_type": "stream",
     "text": [
      "False\n",
      "False\n"
     ]
    }
   ],
   "source": [
    "print(np.any(np.isnan(x_train)))  # Should be False\n",
    "print(np.any(np.isinf(x_train)))  # Should be False"
   ]
  },
  {
   "cell_type": "code",
   "execution_count": 123,
   "metadata": {},
   "outputs": [
    {
     "data": {
      "text/plain": [
       "array([[[[0.        , 0.        , 0.        ],\n",
       "         [0.        , 0.        , 0.        ],\n",
       "         [0.        , 0.        , 0.        ],\n",
       "         ...,\n",
       "         [0.        , 0.        , 0.        ],\n",
       "         [0.        , 0.        , 0.        ],\n",
       "         [0.        , 0.        , 0.        ]],\n",
       "\n",
       "        [[0.        , 0.        , 0.        ],\n",
       "         [0.        , 0.        , 0.        ],\n",
       "         [0.04910714, 0.04910714, 0.04910714],\n",
       "         ...,\n",
       "         [0.04910714, 0.04910714, 0.04910714],\n",
       "         [0.        , 0.        , 0.        ],\n",
       "         [0.        , 0.        , 0.        ]],\n",
       "\n",
       "        [[0.        , 0.        , 0.        ],\n",
       "         [0.04910714, 0.04910714, 0.04910714],\n",
       "         [0.49553571, 0.49553571, 0.49553571],\n",
       "         ...,\n",
       "         [0.49553571, 0.49553571, 0.49553571],\n",
       "         [0.04910714, 0.04910714, 0.04910714],\n",
       "         [0.        , 0.        , 0.        ]],\n",
       "\n",
       "        ...,\n",
       "\n",
       "        [[0.        , 0.        , 0.        ],\n",
       "         [0.04910714, 0.04910714, 0.04910714],\n",
       "         [0.49553571, 0.49553571, 0.49553571],\n",
       "         ...,\n",
       "         [1.09821429, 1.09821429, 1.09821429],\n",
       "         [1.13392857, 1.13392857, 1.13392857],\n",
       "         [1.13839286, 1.13839286, 1.13839286]],\n",
       "\n",
       "        [[0.        , 0.        , 0.        ],\n",
       "         [0.        , 0.        , 0.        ],\n",
       "         [0.04910714, 0.04910714, 0.04910714],\n",
       "         ...,\n",
       "         [1.13392857, 1.13392857, 1.13392857],\n",
       "         [1.13839286, 1.13839286, 1.13839286],\n",
       "         [1.13839286, 1.13839286, 1.13839286]],\n",
       "\n",
       "        [[0.        , 0.        , 0.        ],\n",
       "         [0.        , 0.        , 0.        ],\n",
       "         [0.        , 0.        , 0.        ],\n",
       "         ...,\n",
       "         [1.13839286, 1.13839286, 1.13839286],\n",
       "         [1.13839286, 1.13839286, 1.13839286],\n",
       "         [1.13839286, 1.13839286, 1.13839286]]],\n",
       "\n",
       "\n",
       "       [[[0.        , 0.        , 0.        ],\n",
       "         [0.        , 0.        , 0.        ],\n",
       "         [0.        , 0.        , 0.        ],\n",
       "         ...,\n",
       "         [0.        , 0.        , 0.        ],\n",
       "         [0.        , 0.        , 0.        ],\n",
       "         [0.        , 0.        , 0.        ]],\n",
       "\n",
       "        [[0.        , 0.        , 0.        ],\n",
       "         [0.        , 0.        , 0.        ],\n",
       "         [0.04910714, 0.04910714, 0.04910714],\n",
       "         ...,\n",
       "         [0.04910714, 0.04910714, 0.04910714],\n",
       "         [0.        , 0.        , 0.        ],\n",
       "         [0.        , 0.        , 0.        ]],\n",
       "\n",
       "        [[0.        , 0.        , 0.        ],\n",
       "         [0.04910714, 0.04910714, 0.04910714],\n",
       "         [0.49553571, 0.49553571, 0.49553571],\n",
       "         ...,\n",
       "         [0.49553571, 0.49553571, 0.49553571],\n",
       "         [0.04910714, 0.04910714, 0.04910714],\n",
       "         [0.        , 0.        , 0.        ]],\n",
       "\n",
       "        ...,\n",
       "\n",
       "        [[0.        , 0.        , 0.        ],\n",
       "         [0.04910714, 0.04910714, 0.04910714],\n",
       "         [0.49553571, 0.49553571, 0.49553571],\n",
       "         ...,\n",
       "         [1.09821429, 1.09821429, 1.09821429],\n",
       "         [1.13392857, 1.13392857, 1.13392857],\n",
       "         [1.13839286, 1.13839286, 1.13839286]],\n",
       "\n",
       "        [[0.        , 0.        , 0.        ],\n",
       "         [0.        , 0.        , 0.        ],\n",
       "         [0.04910714, 0.04910714, 0.04910714],\n",
       "         ...,\n",
       "         [1.13392857, 1.13392857, 1.13392857],\n",
       "         [1.13839286, 1.13839286, 1.13839286],\n",
       "         [1.13839286, 1.13839286, 1.13839286]],\n",
       "\n",
       "        [[0.        , 0.        , 0.        ],\n",
       "         [0.        , 0.        , 0.        ],\n",
       "         [0.        , 0.        , 0.        ],\n",
       "         ...,\n",
       "         [1.13839286, 1.13839286, 1.13839286],\n",
       "         [1.13839286, 1.13839286, 1.13839286],\n",
       "         [1.13839286, 1.13839286, 1.13839286]]],\n",
       "\n",
       "\n",
       "       [[[0.        , 0.        , 0.        ],\n",
       "         [0.        , 0.        , 0.        ],\n",
       "         [0.        , 0.        , 0.        ],\n",
       "         ...,\n",
       "         [0.        , 0.        , 0.        ],\n",
       "         [0.        , 0.        , 0.        ],\n",
       "         [0.        , 0.        , 0.        ]],\n",
       "\n",
       "        [[0.        , 0.        , 0.        ],\n",
       "         [0.        , 0.        , 0.        ],\n",
       "         [0.04910714, 0.04910714, 0.04910714],\n",
       "         ...,\n",
       "         [0.04910714, 0.04910714, 0.04910714],\n",
       "         [0.        , 0.        , 0.        ],\n",
       "         [0.        , 0.        , 0.        ]],\n",
       "\n",
       "        [[0.        , 0.        , 0.        ],\n",
       "         [0.04910714, 0.04910714, 0.04910714],\n",
       "         [0.49553571, 0.49553571, 0.49553571],\n",
       "         ...,\n",
       "         [0.49553571, 0.49553571, 0.49553571],\n",
       "         [0.04910714, 0.04910714, 0.04910714],\n",
       "         [0.        , 0.        , 0.        ]],\n",
       "\n",
       "        ...,\n",
       "\n",
       "        [[0.        , 0.        , 0.        ],\n",
       "         [0.04910714, 0.04910714, 0.04910714],\n",
       "         [0.49553571, 0.49553571, 0.49553571],\n",
       "         ...,\n",
       "         [1.09821429, 1.09821429, 1.09821429],\n",
       "         [1.13392857, 1.13392857, 1.13392857],\n",
       "         [1.13839286, 1.13839286, 1.13839286]],\n",
       "\n",
       "        [[0.        , 0.        , 0.        ],\n",
       "         [0.        , 0.        , 0.        ],\n",
       "         [0.04910714, 0.04910714, 0.04910714],\n",
       "         ...,\n",
       "         [1.13392857, 1.13392857, 1.13392857],\n",
       "         [1.13839286, 1.13839286, 1.13839286],\n",
       "         [1.13839286, 1.13839286, 1.13839286]],\n",
       "\n",
       "        [[0.        , 0.        , 0.        ],\n",
       "         [0.        , 0.        , 0.        ],\n",
       "         [0.        , 0.        , 0.        ],\n",
       "         ...,\n",
       "         [1.13839286, 1.13839286, 1.13839286],\n",
       "         [1.13839286, 1.13839286, 1.13839286],\n",
       "         [1.13839286, 1.13839286, 1.13839286]]],\n",
       "\n",
       "\n",
       "       ...,\n",
       "\n",
       "\n",
       "       [[[0.        , 0.        , 0.        ],\n",
       "         [0.        , 0.        , 0.        ],\n",
       "         [0.        , 0.        , 0.        ],\n",
       "         ...,\n",
       "         [0.        , 0.        , 0.        ],\n",
       "         [0.        , 0.        , 0.        ],\n",
       "         [0.        , 0.        , 0.        ]],\n",
       "\n",
       "        [[0.        , 0.        , 0.        ],\n",
       "         [0.        , 0.        , 0.        ],\n",
       "         [0.04910714, 0.04910714, 0.04910714],\n",
       "         ...,\n",
       "         [0.04910714, 0.04910714, 0.04910714],\n",
       "         [0.        , 0.        , 0.        ],\n",
       "         [0.        , 0.        , 0.        ]],\n",
       "\n",
       "        [[0.        , 0.        , 0.        ],\n",
       "         [0.04910714, 0.04910714, 0.04910714],\n",
       "         [0.49553571, 0.49553571, 0.49553571],\n",
       "         ...,\n",
       "         [0.49553571, 0.49553571, 0.49553571],\n",
       "         [0.04910714, 0.04910714, 0.04910714],\n",
       "         [0.        , 0.        , 0.        ]],\n",
       "\n",
       "        ...,\n",
       "\n",
       "        [[0.        , 0.        , 0.        ],\n",
       "         [0.04910714, 0.04910714, 0.04910714],\n",
       "         [0.49553571, 0.49553571, 0.49553571],\n",
       "         ...,\n",
       "         [1.09821429, 1.09821429, 1.09821429],\n",
       "         [1.13392857, 1.13392857, 1.13392857],\n",
       "         [1.13839286, 1.13839286, 1.13839286]],\n",
       "\n",
       "        [[0.        , 0.        , 0.        ],\n",
       "         [0.        , 0.        , 0.        ],\n",
       "         [0.04910714, 0.04910714, 0.04910714],\n",
       "         ...,\n",
       "         [1.13392857, 1.13392857, 1.13392857],\n",
       "         [1.13839286, 1.13839286, 1.13839286],\n",
       "         [1.13839286, 1.13839286, 1.13839286]],\n",
       "\n",
       "        [[0.        , 0.        , 0.        ],\n",
       "         [0.        , 0.        , 0.        ],\n",
       "         [0.        , 0.        , 0.        ],\n",
       "         ...,\n",
       "         [1.13839286, 1.13839286, 1.13839286],\n",
       "         [1.13839286, 1.13839286, 1.13839286],\n",
       "         [1.13839286, 1.13839286, 1.13839286]]],\n",
       "\n",
       "\n",
       "       [[[0.        , 0.        , 0.        ],\n",
       "         [0.        , 0.        , 0.        ],\n",
       "         [0.        , 0.        , 0.        ],\n",
       "         ...,\n",
       "         [0.        , 0.        , 0.        ],\n",
       "         [0.        , 0.        , 0.        ],\n",
       "         [0.        , 0.        , 0.        ]],\n",
       "\n",
       "        [[0.        , 0.        , 0.        ],\n",
       "         [0.        , 0.        , 0.        ],\n",
       "         [0.04910714, 0.04910714, 0.04910714],\n",
       "         ...,\n",
       "         [0.04910714, 0.04910714, 0.04910714],\n",
       "         [0.        , 0.        , 0.        ],\n",
       "         [0.        , 0.        , 0.        ]],\n",
       "\n",
       "        [[0.        , 0.        , 0.        ],\n",
       "         [0.04910714, 0.04910714, 0.04910714],\n",
       "         [0.49553571, 0.49553571, 0.49553571],\n",
       "         ...,\n",
       "         [0.49553571, 0.49553571, 0.49553571],\n",
       "         [0.04910714, 0.04910714, 0.04910714],\n",
       "         [0.        , 0.        , 0.        ]],\n",
       "\n",
       "        ...,\n",
       "\n",
       "        [[0.        , 0.        , 0.        ],\n",
       "         [0.04910714, 0.04910714, 0.04910714],\n",
       "         [0.49553571, 0.49553571, 0.49553571],\n",
       "         ...,\n",
       "         [1.09821429, 1.09821429, 1.09821429],\n",
       "         [1.13392857, 1.13392857, 1.13392857],\n",
       "         [1.13839286, 1.13839286, 1.13839286]],\n",
       "\n",
       "        [[0.        , 0.        , 0.        ],\n",
       "         [0.        , 0.        , 0.        ],\n",
       "         [0.04910714, 0.04910714, 0.04910714],\n",
       "         ...,\n",
       "         [1.13392857, 1.13392857, 1.13392857],\n",
       "         [1.13839286, 1.13839286, 1.13839286],\n",
       "         [1.13839286, 1.13839286, 1.13839286]],\n",
       "\n",
       "        [[0.        , 0.        , 0.        ],\n",
       "         [0.        , 0.        , 0.        ],\n",
       "         [0.        , 0.        , 0.        ],\n",
       "         ...,\n",
       "         [1.13839286, 1.13839286, 1.13839286],\n",
       "         [1.13839286, 1.13839286, 1.13839286],\n",
       "         [1.13839286, 1.13839286, 1.13839286]]],\n",
       "\n",
       "\n",
       "       [[[0.        , 0.        , 0.        ],\n",
       "         [0.        , 0.        , 0.        ],\n",
       "         [0.        , 0.        , 0.        ],\n",
       "         ...,\n",
       "         [0.        , 0.        , 0.        ],\n",
       "         [0.        , 0.        , 0.        ],\n",
       "         [0.        , 0.        , 0.        ]],\n",
       "\n",
       "        [[0.        , 0.        , 0.        ],\n",
       "         [0.        , 0.        , 0.        ],\n",
       "         [0.04910714, 0.04910714, 0.04910714],\n",
       "         ...,\n",
       "         [0.04910714, 0.04910714, 0.04910714],\n",
       "         [0.        , 0.        , 0.        ],\n",
       "         [0.        , 0.        , 0.        ]],\n",
       "\n",
       "        [[0.        , 0.        , 0.        ],\n",
       "         [0.04910714, 0.04910714, 0.04910714],\n",
       "         [0.49553571, 0.49553571, 0.49553571],\n",
       "         ...,\n",
       "         [0.49553571, 0.49553571, 0.49553571],\n",
       "         [0.04910714, 0.04910714, 0.04910714],\n",
       "         [0.        , 0.        , 0.        ]],\n",
       "\n",
       "        ...,\n",
       "\n",
       "        [[0.        , 0.        , 0.        ],\n",
       "         [0.04910714, 0.04910714, 0.04910714],\n",
       "         [0.49553571, 0.49553571, 0.49553571],\n",
       "         ...,\n",
       "         [1.09821429, 1.09821429, 1.09821429],\n",
       "         [1.13392857, 1.13392857, 1.13392857],\n",
       "         [1.13839286, 1.13839286, 1.13839286]],\n",
       "\n",
       "        [[0.        , 0.        , 0.        ],\n",
       "         [0.        , 0.        , 0.        ],\n",
       "         [0.04910714, 0.04910714, 0.04910714],\n",
       "         ...,\n",
       "         [1.13392857, 1.13392857, 1.13392857],\n",
       "         [1.13839286, 1.13839286, 1.13839286],\n",
       "         [1.13839286, 1.13839286, 1.13839286]],\n",
       "\n",
       "        [[0.        , 0.        , 0.        ],\n",
       "         [0.        , 0.        , 0.        ],\n",
       "         [0.        , 0.        , 0.        ],\n",
       "         ...,\n",
       "         [1.13839286, 1.13839286, 1.13839286],\n",
       "         [1.13839286, 1.13839286, 1.13839286],\n",
       "         [1.13839286, 1.13839286, 1.13839286]]]])"
      ]
     },
     "execution_count": 123,
     "metadata": {},
     "output_type": "execute_result"
    }
   ],
   "source": [
    "x_train"
   ]
  },
  {
   "cell_type": "code",
   "execution_count": 124,
   "metadata": {},
   "outputs": [
    {
     "data": {
      "text/html": [
       "<pre style=\"white-space:pre;overflow-x:auto;line-height:normal;font-family:Menlo,'DejaVu Sans Mono',consolas,'Courier New',monospace\"><span style=\"font-weight: bold\">Model: \"functional_21\"</span>\n",
       "</pre>\n"
      ],
      "text/plain": [
       "\u001b[1mModel: \"functional_21\"\u001b[0m\n"
      ]
     },
     "metadata": {},
     "output_type": "display_data"
    },
    {
     "data": {
      "text/html": [
       "<pre style=\"white-space:pre;overflow-x:auto;line-height:normal;font-family:Menlo,'DejaVu Sans Mono',consolas,'Courier New',monospace\">┏━━━━━━━━━━━━━━━━━━━━━┳━━━━━━━━━━━━━━━━━━━┳━━━━━━━━━┳━━━━━━━━━━━━━━━━━━━━━━┓\n",
       "┃<span style=\"font-weight: bold\"> Layer (type)        </span>┃<span style=\"font-weight: bold\"> Output Shape      </span>┃<span style=\"font-weight: bold\"> Param # </span>┃<span style=\"font-weight: bold\"> Connected to         </span>┃\n",
       "┡━━━━━━━━━━━━━━━━━━━━━╇━━━━━━━━━━━━━━━━━━━╇━━━━━━━━━╇━━━━━━━━━━━━━━━━━━━━━━┩\n",
       "│ input_layer_17      │ (<span style=\"color: #00d7ff; text-decoration-color: #00d7ff\">None</span>, <span style=\"color: #00af00; text-decoration-color: #00af00\">224</span>, <span style=\"color: #00af00; text-decoration-color: #00af00\">224</span>,  │       <span style=\"color: #00af00; text-decoration-color: #00af00\">0</span> │ -                    │\n",
       "│ (<span style=\"color: #0087ff; text-decoration-color: #0087ff\">InputLayer</span>)        │ <span style=\"color: #00af00; text-decoration-color: #00af00\">3</span>)                │         │                      │\n",
       "├─────────────────────┼───────────────────┼─────────┼──────────────────────┤\n",
       "│ mobilenetv2_1.00_2… │ (<span style=\"color: #00d7ff; text-decoration-color: #00d7ff\">None</span>, <span style=\"color: #00af00; text-decoration-color: #00af00\">7</span>, <span style=\"color: #00af00; text-decoration-color: #00af00\">7</span>,      │ <span style=\"color: #00af00; text-decoration-color: #00af00\">2,257,…</span> │ input_layer_17[<span style=\"color: #00af00; text-decoration-color: #00af00\">0</span>][<span style=\"color: #00af00; text-decoration-color: #00af00\">0</span>] │\n",
       "│ (<span style=\"color: #0087ff; text-decoration-color: #0087ff\">Functional</span>)        │ <span style=\"color: #00af00; text-decoration-color: #00af00\">1280</span>)             │         │                      │\n",
       "├─────────────────────┼───────────────────┼─────────┼──────────────────────┤\n",
       "│ flatten_9 (<span style=\"color: #0087ff; text-decoration-color: #0087ff\">Flatten</span>) │ (<span style=\"color: #00d7ff; text-decoration-color: #00d7ff\">None</span>, <span style=\"color: #00af00; text-decoration-color: #00af00\">62720</span>)     │       <span style=\"color: #00af00; text-decoration-color: #00af00\">0</span> │ mobilenetv2_1.00_22… │\n",
       "├─────────────────────┼───────────────────┼─────────┼──────────────────────┤\n",
       "│ dense_18 (<span style=\"color: #0087ff; text-decoration-color: #0087ff\">Dense</span>)    │ (<span style=\"color: #00d7ff; text-decoration-color: #00d7ff\">None</span>, <span style=\"color: #00af00; text-decoration-color: #00af00\">1024</span>)      │ <span style=\"color: #00af00; text-decoration-color: #00af00\">64,226…</span> │ flatten_9[<span style=\"color: #00af00; text-decoration-color: #00af00\">0</span>][<span style=\"color: #00af00; text-decoration-color: #00af00\">0</span>]      │\n",
       "├─────────────────────┼───────────────────┼─────────┼──────────────────────┤\n",
       "│ input_layer_18      │ (<span style=\"color: #00d7ff; text-decoration-color: #00d7ff\">None</span>, <span style=\"color: #00af00; text-decoration-color: #00af00\">224</span>, <span style=\"color: #00af00; text-decoration-color: #00af00\">224</span>,  │       <span style=\"color: #00af00; text-decoration-color: #00af00\">0</span> │ -                    │\n",
       "│ (<span style=\"color: #0087ff; text-decoration-color: #0087ff\">InputLayer</span>)        │ <span style=\"color: #00af00; text-decoration-color: #00af00\">3</span>)                │         │                      │\n",
       "├─────────────────────┼───────────────────┼─────────┼──────────────────────┤\n",
       "│ dense_19 (<span style=\"color: #0087ff; text-decoration-color: #0087ff\">Dense</span>)    │ (<span style=\"color: #00d7ff; text-decoration-color: #00d7ff\">None</span>, <span style=\"color: #00af00; text-decoration-color: #00af00\">5</span>)         │   <span style=\"color: #00af00; text-decoration-color: #00af00\">5,125</span> │ dense_18[<span style=\"color: #00af00; text-decoration-color: #00af00\">0</span>][<span style=\"color: #00af00; text-decoration-color: #00af00\">0</span>]       │\n",
       "└─────────────────────┴───────────────────┴─────────┴──────────────────────┘\n",
       "</pre>\n"
      ],
      "text/plain": [
       "┏━━━━━━━━━━━━━━━━━━━━━┳━━━━━━━━━━━━━━━━━━━┳━━━━━━━━━┳━━━━━━━━━━━━━━━━━━━━━━┓\n",
       "┃\u001b[1m \u001b[0m\u001b[1mLayer (type)       \u001b[0m\u001b[1m \u001b[0m┃\u001b[1m \u001b[0m\u001b[1mOutput Shape     \u001b[0m\u001b[1m \u001b[0m┃\u001b[1m \u001b[0m\u001b[1mParam #\u001b[0m\u001b[1m \u001b[0m┃\u001b[1m \u001b[0m\u001b[1mConnected to        \u001b[0m\u001b[1m \u001b[0m┃\n",
       "┡━━━━━━━━━━━━━━━━━━━━━╇━━━━━━━━━━━━━━━━━━━╇━━━━━━━━━╇━━━━━━━━━━━━━━━━━━━━━━┩\n",
       "│ input_layer_17      │ (\u001b[38;5;45mNone\u001b[0m, \u001b[38;5;34m224\u001b[0m, \u001b[38;5;34m224\u001b[0m,  │       \u001b[38;5;34m0\u001b[0m │ -                    │\n",
       "│ (\u001b[38;5;33mInputLayer\u001b[0m)        │ \u001b[38;5;34m3\u001b[0m)                │         │                      │\n",
       "├─────────────────────┼───────────────────┼─────────┼──────────────────────┤\n",
       "│ mobilenetv2_1.00_2… │ (\u001b[38;5;45mNone\u001b[0m, \u001b[38;5;34m7\u001b[0m, \u001b[38;5;34m7\u001b[0m,      │ \u001b[38;5;34m2,257,…\u001b[0m │ input_layer_17[\u001b[38;5;34m0\u001b[0m][\u001b[38;5;34m0\u001b[0m] │\n",
       "│ (\u001b[38;5;33mFunctional\u001b[0m)        │ \u001b[38;5;34m1280\u001b[0m)             │         │                      │\n",
       "├─────────────────────┼───────────────────┼─────────┼──────────────────────┤\n",
       "│ flatten_9 (\u001b[38;5;33mFlatten\u001b[0m) │ (\u001b[38;5;45mNone\u001b[0m, \u001b[38;5;34m62720\u001b[0m)     │       \u001b[38;5;34m0\u001b[0m │ mobilenetv2_1.00_22… │\n",
       "├─────────────────────┼───────────────────┼─────────┼──────────────────────┤\n",
       "│ dense_18 (\u001b[38;5;33mDense\u001b[0m)    │ (\u001b[38;5;45mNone\u001b[0m, \u001b[38;5;34m1024\u001b[0m)      │ \u001b[38;5;34m64,226…\u001b[0m │ flatten_9[\u001b[38;5;34m0\u001b[0m][\u001b[38;5;34m0\u001b[0m]      │\n",
       "├─────────────────────┼───────────────────┼─────────┼──────────────────────┤\n",
       "│ input_layer_18      │ (\u001b[38;5;45mNone\u001b[0m, \u001b[38;5;34m224\u001b[0m, \u001b[38;5;34m224\u001b[0m,  │       \u001b[38;5;34m0\u001b[0m │ -                    │\n",
       "│ (\u001b[38;5;33mInputLayer\u001b[0m)        │ \u001b[38;5;34m3\u001b[0m)                │         │                      │\n",
       "├─────────────────────┼───────────────────┼─────────┼──────────────────────┤\n",
       "│ dense_19 (\u001b[38;5;33mDense\u001b[0m)    │ (\u001b[38;5;45mNone\u001b[0m, \u001b[38;5;34m5\u001b[0m)         │   \u001b[38;5;34m5,125\u001b[0m │ dense_18[\u001b[38;5;34m0\u001b[0m][\u001b[38;5;34m0\u001b[0m]       │\n",
       "└─────────────────────┴───────────────────┴─────────┴──────────────────────┘\n"
      ]
     },
     "metadata": {},
     "output_type": "display_data"
    },
    {
     "data": {
      "text/html": [
       "<pre style=\"white-space:pre;overflow-x:auto;line-height:normal;font-family:Menlo,'DejaVu Sans Mono',consolas,'Courier New',monospace\"><span style=\"font-weight: bold\"> Total params: </span><span style=\"color: #00af00; text-decoration-color: #00af00\">66,489,413</span> (253.64 MB)\n",
       "</pre>\n"
      ],
      "text/plain": [
       "\u001b[1m Total params: \u001b[0m\u001b[38;5;34m66,489,413\u001b[0m (253.64 MB)\n"
      ]
     },
     "metadata": {},
     "output_type": "display_data"
    },
    {
     "data": {
      "text/html": [
       "<pre style=\"white-space:pre;overflow-x:auto;line-height:normal;font-family:Menlo,'DejaVu Sans Mono',consolas,'Courier New',monospace\"><span style=\"font-weight: bold\"> Trainable params: </span><span style=\"color: #00af00; text-decoration-color: #00af00\">64,231,429</span> (245.02 MB)\n",
       "</pre>\n"
      ],
      "text/plain": [
       "\u001b[1m Trainable params: \u001b[0m\u001b[38;5;34m64,231,429\u001b[0m (245.02 MB)\n"
      ]
     },
     "metadata": {},
     "output_type": "display_data"
    },
    {
     "data": {
      "text/html": [
       "<pre style=\"white-space:pre;overflow-x:auto;line-height:normal;font-family:Menlo,'DejaVu Sans Mono',consolas,'Courier New',monospace\"><span style=\"font-weight: bold\"> Non-trainable params: </span><span style=\"color: #00af00; text-decoration-color: #00af00\">2,257,984</span> (8.61 MB)\n",
       "</pre>\n"
      ],
      "text/plain": [
       "\u001b[1m Non-trainable params: \u001b[0m\u001b[38;5;34m2,257,984\u001b[0m (8.61 MB)\n"
      ]
     },
     "metadata": {},
     "output_type": "display_data"
    }
   ],
   "source": [
    "model.summary()"
   ]
  },
  {
   "cell_type": "code",
   "execution_count": 125,
   "metadata": {},
   "outputs": [
    {
     "ename": "ValueError",
     "evalue": "Unrecognized data type: x=[[[[0.         0.         0.        ]\n   [0.         0.         0.        ]\n   [0.         0.         0.        ]\n   ...\n   [0.         0.         0.        ]\n   [0.         0.         0.        ]\n   [0.         0.         0.        ]]\n\n  [[0.         0.         0.        ]\n   [0.         0.         0.        ]\n   [0.04910714 0.04910714 0.04910714]\n   ...\n   [0.04910714 0.04910714 0.04910714]\n   [0.         0.         0.        ]\n   [0.         0.         0.        ]]\n\n  [[0.         0.         0.        ]\n   [0.04910714 0.04910714 0.04910714]\n   [0.49553571 0.49553571 0.49553571]\n   ...\n   [0.49553571 0.49553571 0.49553571]\n   [0.04910714 0.04910714 0.04910714]\n   [0.         0.         0.        ]]\n\n  ...\n\n  [[0.         0.         0.        ]\n   [0.04910714 0.04910714 0.04910714]\n   [0.49553571 0.49553571 0.49553571]\n   ...\n   [1.09821429 1.09821429 1.09821429]\n   [1.13392857 1.13392857 1.13392857]\n   [1.13839286 1.13839286 1.13839286]]\n\n  [[0.         0.         0.        ]\n   [0.         0.         0.        ]\n   [0.04910714 0.04910714 0.04910714]\n   ...\n   [1.13392857 1.13392857 1.13392857]\n   [1.13839286 1.13839286 1.13839286]\n   [1.13839286 1.13839286 1.13839286]]\n\n  [[0.         0.         0.        ]\n   [0.         0.         0.        ]\n   [0.         0.         0.        ]\n   ...\n   [1.13839286 1.13839286 1.13839286]\n   [1.13839286 1.13839286 1.13839286]\n   [1.13839286 1.13839286 1.13839286]]]\n\n\n [[[0.         0.         0.        ]\n   [0.         0.         0.        ]\n   [0.         0.         0.        ]\n   ...\n   [0.         0.         0.        ]\n   [0.         0.         0.        ]\n   [0.         0.         0.        ]]\n\n  [[0.         0.         0.        ]\n   [0.         0.         0.        ]\n   [0.04910714 0.04910714 0.04910714]\n   ...\n   [0.04910714 0.04910714 0.04910714]\n   [0.         0.         0.        ]\n   [0.         0.         0.        ]]\n\n  [[0.         0.         0.        ]\n   [0.04910714 0.04910714 0.04910714]\n   [0.49553571 0.49553571 0.49553571]\n   ...\n   [0.49553571 0.49553571 0.49553571]\n   [0.04910714 0.04910714 0.04910714]\n   [0.         0.         0.        ]]\n\n  ...\n\n  [[0.         0.         0.        ]\n   [0.04910714 0.04910714 0.04910714]\n   [0.49553571 0.49553571 0.49553571]\n   ...\n   [1.09821429 1.09821429 1.09821429]\n   [1.13392857 1.13392857 1.13392857]\n   [1.13839286 1.13839286 1.13839286]]\n\n  [[0.         0.         0.        ]\n   [0.         0.         0.        ]\n   [0.04910714 0.04910714 0.04910714]\n   ...\n   [1.13392857 1.13392857 1.13392857]\n   [1.13839286 1.13839286 1.13839286]\n   [1.13839286 1.13839286 1.13839286]]\n\n  [[0.         0.         0.        ]\n   [0.         0.         0.        ]\n   [0.         0.         0.        ]\n   ...\n   [1.13839286 1.13839286 1.13839286]\n   [1.13839286 1.13839286 1.13839286]\n   [1.13839286 1.13839286 1.13839286]]]\n\n\n [[[0.         0.         0.        ]\n   [0.         0.         0.        ]\n   [0.         0.         0.        ]\n   ...\n   [0.         0.         0.        ]\n   [0.         0.         0.        ]\n   [0.         0.         0.        ]]\n\n  [[0.         0.         0.        ]\n   [0.         0.         0.        ]\n   [0.04910714 0.04910714 0.04910714]\n   ...\n   [0.04910714 0.04910714 0.04910714]\n   [0.         0.         0.        ]\n   [0.         0.         0.        ]]\n\n  [[0.         0.         0.        ]\n   [0.04910714 0.04910714 0.04910714]\n   [0.49553571 0.49553571 0.49553571]\n   ...\n   [0.49553571 0.49553571 0.49553571]\n   [0.04910714 0.04910714 0.04910714]\n   [0.         0.         0.        ]]\n\n  ...\n\n  [[0.         0.         0.        ]\n   [0.04910714 0.04910714 0.04910714]\n   [0.49553571 0.49553571 0.49553571]\n   ...\n   [1.09821429 1.09821429 1.09821429]\n   [1.13392857 1.13392857 1.13392857]\n   [1.13839286 1.13839286 1.13839286]]\n\n  [[0.         0.         0.        ]\n   [0.         0.         0.        ]\n   [0.04910714 0.04910714 0.04910714]\n   ...\n   [1.13392857 1.13392857 1.13392857]\n   [1.13839286 1.13839286 1.13839286]\n   [1.13839286 1.13839286 1.13839286]]\n\n  [[0.         0.         0.        ]\n   [0.         0.         0.        ]\n   [0.         0.         0.        ]\n   ...\n   [1.13839286 1.13839286 1.13839286]\n   [1.13839286 1.13839286 1.13839286]\n   [1.13839286 1.13839286 1.13839286]]]\n\n\n ...\n\n\n [[[0.         0.         0.        ]\n   [0.         0.         0.        ]\n   [0.         0.         0.        ]\n   ...\n   [0.         0.         0.        ]\n   [0.         0.         0.        ]\n   [0.         0.         0.        ]]\n\n  [[0.         0.         0.        ]\n   [0.         0.         0.        ]\n   [0.04910714 0.04910714 0.04910714]\n   ...\n   [0.04910714 0.04910714 0.04910714]\n   [0.         0.         0.        ]\n   [0.         0.         0.        ]]\n\n  [[0.         0.         0.        ]\n   [0.04910714 0.04910714 0.04910714]\n   [0.49553571 0.49553571 0.49553571]\n   ...\n   [0.49553571 0.49553571 0.49553571]\n   [0.04910714 0.04910714 0.04910714]\n   [0.         0.         0.        ]]\n\n  ...\n\n  [[0.         0.         0.        ]\n   [0.04910714 0.04910714 0.04910714]\n   [0.49553571 0.49553571 0.49553571]\n   ...\n   [1.09821429 1.09821429 1.09821429]\n   [1.13392857 1.13392857 1.13392857]\n   [1.13839286 1.13839286 1.13839286]]\n\n  [[0.         0.         0.        ]\n   [0.         0.         0.        ]\n   [0.04910714 0.04910714 0.04910714]\n   ...\n   [1.13392857 1.13392857 1.13392857]\n   [1.13839286 1.13839286 1.13839286]\n   [1.13839286 1.13839286 1.13839286]]\n\n  [[0.         0.         0.        ]\n   [0.         0.         0.        ]\n   [0.         0.         0.        ]\n   ...\n   [1.13839286 1.13839286 1.13839286]\n   [1.13839286 1.13839286 1.13839286]\n   [1.13839286 1.13839286 1.13839286]]]\n\n\n [[[0.         0.         0.        ]\n   [0.         0.         0.        ]\n   [0.         0.         0.        ]\n   ...\n   [0.         0.         0.        ]\n   [0.         0.         0.        ]\n   [0.         0.         0.        ]]\n\n  [[0.         0.         0.        ]\n   [0.         0.         0.        ]\n   [0.04910714 0.04910714 0.04910714]\n   ...\n   [0.04910714 0.04910714 0.04910714]\n   [0.         0.         0.        ]\n   [0.         0.         0.        ]]\n\n  [[0.         0.         0.        ]\n   [0.04910714 0.04910714 0.04910714]\n   [0.49553571 0.49553571 0.49553571]\n   ...\n   [0.49553571 0.49553571 0.49553571]\n   [0.04910714 0.04910714 0.04910714]\n   [0.         0.         0.        ]]\n\n  ...\n\n  [[0.         0.         0.        ]\n   [0.04910714 0.04910714 0.04910714]\n   [0.49553571 0.49553571 0.49553571]\n   ...\n   [1.09821429 1.09821429 1.09821429]\n   [1.13392857 1.13392857 1.13392857]\n   [1.13839286 1.13839286 1.13839286]]\n\n  [[0.         0.         0.        ]\n   [0.         0.         0.        ]\n   [0.04910714 0.04910714 0.04910714]\n   ...\n   [1.13392857 1.13392857 1.13392857]\n   [1.13839286 1.13839286 1.13839286]\n   [1.13839286 1.13839286 1.13839286]]\n\n  [[0.         0.         0.        ]\n   [0.         0.         0.        ]\n   [0.         0.         0.        ]\n   ...\n   [1.13839286 1.13839286 1.13839286]\n   [1.13839286 1.13839286 1.13839286]\n   [1.13839286 1.13839286 1.13839286]]]\n\n\n [[[0.         0.         0.        ]\n   [0.         0.         0.        ]\n   [0.         0.         0.        ]\n   ...\n   [0.         0.         0.        ]\n   [0.         0.         0.        ]\n   [0.         0.         0.        ]]\n\n  [[0.         0.         0.        ]\n   [0.         0.         0.        ]\n   [0.04910714 0.04910714 0.04910714]\n   ...\n   [0.04910714 0.04910714 0.04910714]\n   [0.         0.         0.        ]\n   [0.         0.         0.        ]]\n\n  [[0.         0.         0.        ]\n   [0.04910714 0.04910714 0.04910714]\n   [0.49553571 0.49553571 0.49553571]\n   ...\n   [0.49553571 0.49553571 0.49553571]\n   [0.04910714 0.04910714 0.04910714]\n   [0.         0.         0.        ]]\n\n  ...\n\n  [[0.         0.         0.        ]\n   [0.04910714 0.04910714 0.04910714]\n   [0.49553571 0.49553571 0.49553571]\n   ...\n   [1.09821429 1.09821429 1.09821429]\n   [1.13392857 1.13392857 1.13392857]\n   [1.13839286 1.13839286 1.13839286]]\n\n  [[0.         0.         0.        ]\n   [0.         0.         0.        ]\n   [0.04910714 0.04910714 0.04910714]\n   ...\n   [1.13392857 1.13392857 1.13392857]\n   [1.13839286 1.13839286 1.13839286]\n   [1.13839286 1.13839286 1.13839286]]\n\n  [[0.         0.         0.        ]\n   [0.         0.         0.        ]\n   [0.         0.         0.        ]\n   ...\n   [1.13839286 1.13839286 1.13839286]\n   [1.13839286 1.13839286 1.13839286]\n   [1.13839286 1.13839286 1.13839286]]]] (of type <class 'numpy.ndarray'>)",
     "output_type": "error",
     "traceback": [
      "\u001b[0;31m---------------------------------------------------------------------------\u001b[0m",
      "\u001b[0;31mValueError\u001b[0m                                Traceback (most recent call last)",
      "\u001b[1;32mc:\\Users\\rini\\DATA\\#Git-Stash\\machine-learning-adventures\\widget-classification\\widget-classification.ipynb Cell 21\u001b[0m line \u001b[0;36m2\n\u001b[1;32m      <a href='vscode-notebook-cell:/c%3A/Users/rini/DATA/%23Git-Stash/machine-learning-adventures/widget-classification/widget-classification.ipynb#X21sZmlsZQ%3D%3D?line=0'>1</a>\u001b[0m \u001b[39m# Train the model\u001b[39;00m\n\u001b[0;32m----> <a href='vscode-notebook-cell:/c%3A/Users/rini/DATA/%23Git-Stash/machine-learning-adventures/widget-classification/widget-classification.ipynb#X21sZmlsZQ%3D%3D?line=1'>2</a>\u001b[0m model\u001b[39m.\u001b[39;49mfit(x_train, y_train, epochs\u001b[39m=\u001b[39;49m\u001b[39m10\u001b[39;49m, batch_size\u001b[39m=\u001b[39;49m\u001b[39m32\u001b[39;49m)\n",
      "File \u001b[0;32m/usr/local/lib/python3.11/dist-packages/keras/src/utils/traceback_utils.py:123\u001b[0m, in \u001b[0;36mfilter_traceback.<locals>.error_handler\u001b[0;34m(*args, **kwargs)\u001b[0m\n\u001b[1;32m    120\u001b[0m     filtered_tb \u001b[39m=\u001b[39m _process_traceback_frames(e\u001b[39m.\u001b[39m__traceback__)\n\u001b[1;32m    121\u001b[0m     \u001b[39m# To get the full stack trace, call:\u001b[39;00m\n\u001b[1;32m    122\u001b[0m     \u001b[39m# `keras.config.disable_traceback_filtering()`\u001b[39;00m\n\u001b[0;32m--> 123\u001b[0m     \u001b[39mraise\u001b[39;00m e\u001b[39m.\u001b[39mwith_traceback(filtered_tb) \u001b[39mfrom\u001b[39;00m \u001b[39mNone\u001b[39;00m\n\u001b[1;32m    124\u001b[0m \u001b[39mfinally\u001b[39;00m:\n\u001b[1;32m    125\u001b[0m     \u001b[39mdel\u001b[39;00m filtered_tb\n",
      "File \u001b[0;32m/usr/local/lib/python3.11/dist-packages/keras/src/trainers/data_adapters/__init__.py:113\u001b[0m, in \u001b[0;36mget_data_adapter\u001b[0;34m(x, y, sample_weight, batch_size, steps_per_epoch, shuffle, class_weight)\u001b[0m\n\u001b[1;32m    105\u001b[0m     \u001b[39mreturn\u001b[39;00m GeneratorDataAdapter(x)\n\u001b[1;32m    106\u001b[0m     \u001b[39m# TODO: should we warn or not?\u001b[39;00m\n\u001b[1;32m    107\u001b[0m     \u001b[39m# warnings.warn(\u001b[39;00m\n\u001b[1;32m    108\u001b[0m     \u001b[39m#     \"`shuffle=True` was passed, but will be ignored since the \"\u001b[39;00m\n\u001b[0;32m   (...)\u001b[0m\n\u001b[1;32m    111\u001b[0m     \u001b[39m# )\u001b[39;00m\n\u001b[1;32m    112\u001b[0m \u001b[39melse\u001b[39;00m:\n\u001b[0;32m--> 113\u001b[0m     \u001b[39mraise\u001b[39;00m \u001b[39mValueError\u001b[39;00m(\u001b[39mf\u001b[39m\u001b[39m\"\u001b[39m\u001b[39mUnrecognized data type: x=\u001b[39m\u001b[39m{\u001b[39;00mx\u001b[39m}\u001b[39;00m\u001b[39m (of type \u001b[39m\u001b[39m{\u001b[39;00m\u001b[39mtype\u001b[39m(x)\u001b[39m}\u001b[39;00m\u001b[39m)\u001b[39m\u001b[39m\"\u001b[39m)\n",
      "\u001b[0;31mValueError\u001b[0m: Unrecognized data type: x=[[[[0.         0.         0.        ]\n   [0.         0.         0.        ]\n   [0.         0.         0.        ]\n   ...\n   [0.         0.         0.        ]\n   [0.         0.         0.        ]\n   [0.         0.         0.        ]]\n\n  [[0.         0.         0.        ]\n   [0.         0.         0.        ]\n   [0.04910714 0.04910714 0.04910714]\n   ...\n   [0.04910714 0.04910714 0.04910714]\n   [0.         0.         0.        ]\n   [0.         0.         0.        ]]\n\n  [[0.         0.         0.        ]\n   [0.04910714 0.04910714 0.04910714]\n   [0.49553571 0.49553571 0.49553571]\n   ...\n   [0.49553571 0.49553571 0.49553571]\n   [0.04910714 0.04910714 0.04910714]\n   [0.         0.         0.        ]]\n\n  ...\n\n  [[0.         0.         0.        ]\n   [0.04910714 0.04910714 0.04910714]\n   [0.49553571 0.49553571 0.49553571]\n   ...\n   [1.09821429 1.09821429 1.09821429]\n   [1.13392857 1.13392857 1.13392857]\n   [1.13839286 1.13839286 1.13839286]]\n\n  [[0.         0.         0.        ]\n   [0.         0.         0.        ]\n   [0.04910714 0.04910714 0.04910714]\n   ...\n   [1.13392857 1.13392857 1.13392857]\n   [1.13839286 1.13839286 1.13839286]\n   [1.13839286 1.13839286 1.13839286]]\n\n  [[0.         0.         0.        ]\n   [0.         0.         0.        ]\n   [0.         0.         0.        ]\n   ...\n   [1.13839286 1.13839286 1.13839286]\n   [1.13839286 1.13839286 1.13839286]\n   [1.13839286 1.13839286 1.13839286]]]\n\n\n [[[0.         0.         0.        ]\n   [0.         0.         0.        ]\n   [0.         0.         0.        ]\n   ...\n   [0.         0.         0.        ]\n   [0.         0.         0.        ]\n   [0.         0.         0.        ]]\n\n  [[0.         0.         0.        ]\n   [0.         0.         0.        ]\n   [0.04910714 0.04910714 0.04910714]\n   ...\n   [0.04910714 0.04910714 0.04910714]\n   [0.         0.         0.        ]\n   [0.         0.         0.        ]]\n\n  [[0.         0.         0.        ]\n   [0.04910714 0.04910714 0.04910714]\n   [0.49553571 0.49553571 0.49553571]\n   ...\n   [0.49553571 0.49553571 0.49553571]\n   [0.04910714 0.04910714 0.04910714]\n   [0.         0.         0.        ]]\n\n  ...\n\n  [[0.         0.         0.        ]\n   [0.04910714 0.04910714 0.04910714]\n   [0.49553571 0.49553571 0.49553571]\n   ...\n   [1.09821429 1.09821429 1.09821429]\n   [1.13392857 1.13392857 1.13392857]\n   [1.13839286 1.13839286 1.13839286]]\n\n  [[0.         0.         0.        ]\n   [0.         0.         0.        ]\n   [0.04910714 0.04910714 0.04910714]\n   ...\n   [1.13392857 1.13392857 1.13392857]\n   [1.13839286 1.13839286 1.13839286]\n   [1.13839286 1.13839286 1.13839286]]\n\n  [[0.         0.         0.        ]\n   [0.         0.         0.        ]\n   [0.         0.         0.        ]\n   ...\n   [1.13839286 1.13839286 1.13839286]\n   [1.13839286 1.13839286 1.13839286]\n   [1.13839286 1.13839286 1.13839286]]]\n\n\n [[[0.         0.         0.        ]\n   [0.         0.         0.        ]\n   [0.         0.         0.        ]\n   ...\n   [0.         0.         0.        ]\n   [0.         0.         0.        ]\n   [0.         0.         0.        ]]\n\n  [[0.         0.         0.        ]\n   [0.         0.         0.        ]\n   [0.04910714 0.04910714 0.04910714]\n   ...\n   [0.04910714 0.04910714 0.04910714]\n   [0.         0.         0.        ]\n   [0.         0.         0.        ]]\n\n  [[0.         0.         0.        ]\n   [0.04910714 0.04910714 0.04910714]\n   [0.49553571 0.49553571 0.49553571]\n   ...\n   [0.49553571 0.49553571 0.49553571]\n   [0.04910714 0.04910714 0.04910714]\n   [0.         0.         0.        ]]\n\n  ...\n\n  [[0.         0.         0.        ]\n   [0.04910714 0.04910714 0.04910714]\n   [0.49553571 0.49553571 0.49553571]\n   ...\n   [1.09821429 1.09821429 1.09821429]\n   [1.13392857 1.13392857 1.13392857]\n   [1.13839286 1.13839286 1.13839286]]\n\n  [[0.         0.         0.        ]\n   [0.         0.         0.        ]\n   [0.04910714 0.04910714 0.04910714]\n   ...\n   [1.13392857 1.13392857 1.13392857]\n   [1.13839286 1.13839286 1.13839286]\n   [1.13839286 1.13839286 1.13839286]]\n\n  [[0.         0.         0.        ]\n   [0.         0.         0.        ]\n   [0.         0.         0.        ]\n   ...\n   [1.13839286 1.13839286 1.13839286]\n   [1.13839286 1.13839286 1.13839286]\n   [1.13839286 1.13839286 1.13839286]]]\n\n\n ...\n\n\n [[[0.         0.         0.        ]\n   [0.         0.         0.        ]\n   [0.         0.         0.        ]\n   ...\n   [0.         0.         0.        ]\n   [0.         0.         0.        ]\n   [0.         0.         0.        ]]\n\n  [[0.         0.         0.        ]\n   [0.         0.         0.        ]\n   [0.04910714 0.04910714 0.04910714]\n   ...\n   [0.04910714 0.04910714 0.04910714]\n   [0.         0.         0.        ]\n   [0.         0.         0.        ]]\n\n  [[0.         0.         0.        ]\n   [0.04910714 0.04910714 0.04910714]\n   [0.49553571 0.49553571 0.49553571]\n   ...\n   [0.49553571 0.49553571 0.49553571]\n   [0.04910714 0.04910714 0.04910714]\n   [0.         0.         0.        ]]\n\n  ...\n\n  [[0.         0.         0.        ]\n   [0.04910714 0.04910714 0.04910714]\n   [0.49553571 0.49553571 0.49553571]\n   ...\n   [1.09821429 1.09821429 1.09821429]\n   [1.13392857 1.13392857 1.13392857]\n   [1.13839286 1.13839286 1.13839286]]\n\n  [[0.         0.         0.        ]\n   [0.         0.         0.        ]\n   [0.04910714 0.04910714 0.04910714]\n   ...\n   [1.13392857 1.13392857 1.13392857]\n   [1.13839286 1.13839286 1.13839286]\n   [1.13839286 1.13839286 1.13839286]]\n\n  [[0.         0.         0.        ]\n   [0.         0.         0.        ]\n   [0.         0.         0.        ]\n   ...\n   [1.13839286 1.13839286 1.13839286]\n   [1.13839286 1.13839286 1.13839286]\n   [1.13839286 1.13839286 1.13839286]]]\n\n\n [[[0.         0.         0.        ]\n   [0.         0.         0.        ]\n   [0.         0.         0.        ]\n   ...\n   [0.         0.         0.        ]\n   [0.         0.         0.        ]\n   [0.         0.         0.        ]]\n\n  [[0.         0.         0.        ]\n   [0.         0.         0.        ]\n   [0.04910714 0.04910714 0.04910714]\n   ...\n   [0.04910714 0.04910714 0.04910714]\n   [0.         0.         0.        ]\n   [0.         0.         0.        ]]\n\n  [[0.         0.         0.        ]\n   [0.04910714 0.04910714 0.04910714]\n   [0.49553571 0.49553571 0.49553571]\n   ...\n   [0.49553571 0.49553571 0.49553571]\n   [0.04910714 0.04910714 0.04910714]\n   [0.         0.         0.        ]]\n\n  ...\n\n  [[0.         0.         0.        ]\n   [0.04910714 0.04910714 0.04910714]\n   [0.49553571 0.49553571 0.49553571]\n   ...\n   [1.09821429 1.09821429 1.09821429]\n   [1.13392857 1.13392857 1.13392857]\n   [1.13839286 1.13839286 1.13839286]]\n\n  [[0.         0.         0.        ]\n   [0.         0.         0.        ]\n   [0.04910714 0.04910714 0.04910714]\n   ...\n   [1.13392857 1.13392857 1.13392857]\n   [1.13839286 1.13839286 1.13839286]\n   [1.13839286 1.13839286 1.13839286]]\n\n  [[0.         0.         0.        ]\n   [0.         0.         0.        ]\n   [0.         0.         0.        ]\n   ...\n   [1.13839286 1.13839286 1.13839286]\n   [1.13839286 1.13839286 1.13839286]\n   [1.13839286 1.13839286 1.13839286]]]\n\n\n [[[0.         0.         0.        ]\n   [0.         0.         0.        ]\n   [0.         0.         0.        ]\n   ...\n   [0.         0.         0.        ]\n   [0.         0.         0.        ]\n   [0.         0.         0.        ]]\n\n  [[0.         0.         0.        ]\n   [0.         0.         0.        ]\n   [0.04910714 0.04910714 0.04910714]\n   ...\n   [0.04910714 0.04910714 0.04910714]\n   [0.         0.         0.        ]\n   [0.         0.         0.        ]]\n\n  [[0.         0.         0.        ]\n   [0.04910714 0.04910714 0.04910714]\n   [0.49553571 0.49553571 0.49553571]\n   ...\n   [0.49553571 0.49553571 0.49553571]\n   [0.04910714 0.04910714 0.04910714]\n   [0.         0.         0.        ]]\n\n  ...\n\n  [[0.         0.         0.        ]\n   [0.04910714 0.04910714 0.04910714]\n   [0.49553571 0.49553571 0.49553571]\n   ...\n   [1.09821429 1.09821429 1.09821429]\n   [1.13392857 1.13392857 1.13392857]\n   [1.13839286 1.13839286 1.13839286]]\n\n  [[0.         0.         0.        ]\n   [0.         0.         0.        ]\n   [0.04910714 0.04910714 0.04910714]\n   ...\n   [1.13392857 1.13392857 1.13392857]\n   [1.13839286 1.13839286 1.13839286]\n   [1.13839286 1.13839286 1.13839286]]\n\n  [[0.         0.         0.        ]\n   [0.         0.         0.        ]\n   [0.         0.         0.        ]\n   ...\n   [1.13839286 1.13839286 1.13839286]\n   [1.13839286 1.13839286 1.13839286]\n   [1.13839286 1.13839286 1.13839286]]]] (of type <class 'numpy.ndarray'>)"
     ]
    }
   ],
   "source": [
    "# Train the model\n",
    "model.fit(x_train, y_train, epochs=10, batch_size=32)"
   ]
  },
  {
   "cell_type": "code",
   "execution_count": null,
   "metadata": {},
   "outputs": [],
   "source": [
    "# Save the model\n",
    "model.save('widget-classification.h5')"
   ]
  },
  {
   "cell_type": "markdown",
   "metadata": {},
   "source": [
    "# Scale data"
   ]
  },
  {
   "cell_type": "markdown",
   "metadata": {},
   "source": [
    "# Build Deep Learning Model"
   ]
  },
  {
   "cell_type": "markdown",
   "metadata": {},
   "source": [
    "# Plot performance"
   ]
  },
  {
   "cell_type": "markdown",
   "metadata": {},
   "source": [
    "# Evaluate model performance"
   ]
  },
  {
   "cell_type": "markdown",
   "metadata": {},
   "source": [
    "# Test model"
   ]
  },
  {
   "cell_type": "markdown",
   "metadata": {},
   "source": [
    "# Save model"
   ]
  }
 ],
 "metadata": {
  "kernelspec": {
   "display_name": "Python 3 (ipykernel)",
   "language": "python",
   "name": "python3"
  },
  "language_info": {
   "codemirror_mode": {
    "name": "ipython",
    "version": 3
   },
   "file_extension": ".py",
   "mimetype": "text/x-python",
   "name": "python",
   "nbconvert_exporter": "python",
   "pygments_lexer": "ipython3",
   "version": "3.11.0rc1"
  }
 },
 "nbformat": 4,
 "nbformat_minor": 2
}
